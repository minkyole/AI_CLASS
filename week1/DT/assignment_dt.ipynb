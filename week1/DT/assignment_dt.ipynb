{
 "cells": [
  {
   "cell_type": "code",
   "execution_count": 1,
   "id": "a094c103-60f7-443e-8b24-e4522d285bca",
   "metadata": {},
   "outputs": [
    {
     "name": "stdout",
     "output_type": "stream",
     "text": [
      "   SepalLength  SepalWidth  PetalLength  PetalWidth         Name\n",
      "0          5.1         3.5          1.4         0.2  Iris-setosa\n",
      "1          4.9         3.0          1.4         0.2  Iris-setosa\n",
      "2          4.7         3.2          1.3         0.2  Iris-setosa\n",
      "3          4.6         3.1          1.5         0.2  Iris-setosa\n",
      "4          5.0         3.6          1.4         0.2  Iris-setosa\n",
      "Index(['SepalLength\\n', 'SepalWidth\\n', 'PetalLength\\n', 'PetalWidth\\n',\n",
      "       'Name\\n'],\n",
      "      dtype='object')\n",
      "Decision Tree 모델 정확도: 1.0000\n",
      "\n",
      "분류 리포트:\n",
      "                  precision    recall  f1-score   support\n",
      "\n",
      "    Iris-setosa       1.00      1.00      1.00        10\n",
      "Iris-versicolor       1.00      1.00      1.00         9\n",
      " Iris-virginica       1.00      1.00      1.00        11\n",
      "\n",
      "       accuracy                           1.00        30\n",
      "      macro avg       1.00      1.00      1.00        30\n",
      "   weighted avg       1.00      1.00      1.00        30\n",
      "\n"
     ]
    }
   ],
   "source": [
    "import pandas as pd                                                # 판다스 라이브러리로 데이터 처리\n",
    "from sklearn.model_selection import train_test_split               # 데이터 분할 함수\n",
    "from sklearn.tree import DecisionTreeClassifier                      # Decision Tree 모델 클래스\n",
    "from sklearn.metrics import accuracy_score, classification_report    # 모델 평가 지표\n",
    "\n",
    "# 1. 붓꽃 데이터 CSV 파일 읽기\n",
    "file_path = r\"C:\\Users\\7719s\\Desktop\\ai_class\\week1\\iris.csv\"  # 본인이 iris.csv를 저장한 경로를 입력합니다.\n",
    "df = pd.read_csv(file_path)\n",
    "\n",
    "# 2. 데이터프레임 확인\n",
    "print(df.head())  # 첫 5개 행 출력\n",
    "print(df.columns + \"\\n\")  # 컬럼명 출력\n",
    "\n",
    "# 3. 특성과 타깃 변수 분리\n",
    "#    - X: 마지막 열을 제외한 모든 열 (특성 데이터)\n",
    "#    - y: 마지막 열 (타깃 변수, 품종)\n",
    "X = df.iloc[:, :-1]\n",
    "y = df.iloc[:, -1]\n",
    "\n",
    "# 4. 데이터 분할 (80% 학습, 20% 테스트)\n",
    "X_train, X_test, y_train, y_test = train_test_split(\n",
    "    X, y, test_size=0.2, random_state=42\n",
    ")\n",
    "\n",
    "# 5. Decision Tree 모델 학습\n",
    "dt_model = DecisionTreeClassifier(random_state=42)\n",
    "dt_model.fit(X_train, y_train)\n",
    "\n",
    "# 6. 예측 수행\n",
    "y_pred_dt = dt_model.predict(X_test)\n",
    "\n",
    "# 7. 모델 평가 (정확도 및 상세 분류 리포트)\n",
    "accuracy_dt = accuracy_score(y_test, y_pred_dt)\n",
    "report_dt = classification_report(y_test, y_pred_dt)\n",
    "\n",
    "# 8. 결과 출력\n",
    "print(f\"Decision Tree 모델 정확도: {accuracy_dt:.4f}\")\n",
    "print(\"\\n분류 리포트:\\n\", report_dt)\n"
   ]
  },
  {
   "cell_type": "code",
   "execution_count": null,
   "id": "e13e7030-027d-43e2-bb20-9a4e6c75247f",
   "metadata": {},
   "outputs": [],
   "source": []
  }
 ],
 "metadata": {
  "kernelspec": {
   "display_name": "base",
   "language": "python",
   "name": "python3"
  },
  "language_info": {
   "codemirror_mode": {
    "name": "ipython",
    "version": 3
   },
   "file_extension": ".py",
   "mimetype": "text/x-python",
   "name": "python",
   "nbconvert_exporter": "python",
   "pygments_lexer": "ipython3",
   "version": "3.12.7"
  }
 },
 "nbformat": 4,
 "nbformat_minor": 5
}
