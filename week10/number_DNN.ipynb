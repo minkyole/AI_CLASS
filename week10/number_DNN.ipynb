{
 "cells": [
  {
   "cell_type": "code",
   "execution_count": 235,
   "id": "1b71f657",
   "metadata": {},
   "outputs": [],
   "source": [
    "import torch\n",
    "import torch.nn as nn\n",
    "import torch.optim as optim\n",
    "from torch.utils.data import TensorDataset, DataLoader\n",
    "from sklearn.datasets import load_digits\n",
    "from sklearn.model_selection import train_test_split\n",
    "from sklearn.metrics import classification_report, confusion_matrix\n",
    "import numpy as np\n"
   ]
  },
  {
   "cell_type": "code",
   "execution_count": 236,
   "id": "cb9a970a",
   "metadata": {},
   "outputs": [],
   "source": [
    "\n",
    "# 데이터 로드 및 전처리\n",
    "digits = load_digits()\n"
   ]
  },
  {
   "cell_type": "code",
   "execution_count": 237,
   "id": "d4fad4f6",
   "metadata": {},
   "outputs": [
    {
     "data": {
      "text/plain": [
       "{'data': array([[ 0.,  0.,  5., ...,  0.,  0.,  0.],\n",
       "        [ 0.,  0.,  0., ..., 10.,  0.,  0.],\n",
       "        [ 0.,  0.,  0., ..., 16.,  9.,  0.],\n",
       "        ...,\n",
       "        [ 0.,  0.,  1., ...,  6.,  0.,  0.],\n",
       "        [ 0.,  0.,  2., ..., 12.,  0.,  0.],\n",
       "        [ 0.,  0., 10., ..., 12.,  1.,  0.]]),\n",
       " 'target': array([0, 1, 2, ..., 8, 9, 8]),\n",
       " 'frame': None,\n",
       " 'feature_names': ['pixel_0_0',\n",
       "  'pixel_0_1',\n",
       "  'pixel_0_2',\n",
       "  'pixel_0_3',\n",
       "  'pixel_0_4',\n",
       "  'pixel_0_5',\n",
       "  'pixel_0_6',\n",
       "  'pixel_0_7',\n",
       "  'pixel_1_0',\n",
       "  'pixel_1_1',\n",
       "  'pixel_1_2',\n",
       "  'pixel_1_3',\n",
       "  'pixel_1_4',\n",
       "  'pixel_1_5',\n",
       "  'pixel_1_6',\n",
       "  'pixel_1_7',\n",
       "  'pixel_2_0',\n",
       "  'pixel_2_1',\n",
       "  'pixel_2_2',\n",
       "  'pixel_2_3',\n",
       "  'pixel_2_4',\n",
       "  'pixel_2_5',\n",
       "  'pixel_2_6',\n",
       "  'pixel_2_7',\n",
       "  'pixel_3_0',\n",
       "  'pixel_3_1',\n",
       "  'pixel_3_2',\n",
       "  'pixel_3_3',\n",
       "  'pixel_3_4',\n",
       "  'pixel_3_5',\n",
       "  'pixel_3_6',\n",
       "  'pixel_3_7',\n",
       "  'pixel_4_0',\n",
       "  'pixel_4_1',\n",
       "  'pixel_4_2',\n",
       "  'pixel_4_3',\n",
       "  'pixel_4_4',\n",
       "  'pixel_4_5',\n",
       "  'pixel_4_6',\n",
       "  'pixel_4_7',\n",
       "  'pixel_5_0',\n",
       "  'pixel_5_1',\n",
       "  'pixel_5_2',\n",
       "  'pixel_5_3',\n",
       "  'pixel_5_4',\n",
       "  'pixel_5_5',\n",
       "  'pixel_5_6',\n",
       "  'pixel_5_7',\n",
       "  'pixel_6_0',\n",
       "  'pixel_6_1',\n",
       "  'pixel_6_2',\n",
       "  'pixel_6_3',\n",
       "  'pixel_6_4',\n",
       "  'pixel_6_5',\n",
       "  'pixel_6_6',\n",
       "  'pixel_6_7',\n",
       "  'pixel_7_0',\n",
       "  'pixel_7_1',\n",
       "  'pixel_7_2',\n",
       "  'pixel_7_3',\n",
       "  'pixel_7_4',\n",
       "  'pixel_7_5',\n",
       "  'pixel_7_6',\n",
       "  'pixel_7_7'],\n",
       " 'target_names': array([0, 1, 2, 3, 4, 5, 6, 7, 8, 9]),\n",
       " 'images': array([[[ 0.,  0.,  5., ...,  1.,  0.,  0.],\n",
       "         [ 0.,  0., 13., ..., 15.,  5.,  0.],\n",
       "         [ 0.,  3., 15., ..., 11.,  8.,  0.],\n",
       "         ...,\n",
       "         [ 0.,  4., 11., ..., 12.,  7.,  0.],\n",
       "         [ 0.,  2., 14., ..., 12.,  0.,  0.],\n",
       "         [ 0.,  0.,  6., ...,  0.,  0.,  0.]],\n",
       " \n",
       "        [[ 0.,  0.,  0., ...,  5.,  0.,  0.],\n",
       "         [ 0.,  0.,  0., ...,  9.,  0.,  0.],\n",
       "         [ 0.,  0.,  3., ...,  6.,  0.,  0.],\n",
       "         ...,\n",
       "         [ 0.,  0.,  1., ...,  6.,  0.,  0.],\n",
       "         [ 0.,  0.,  1., ...,  6.,  0.,  0.],\n",
       "         [ 0.,  0.,  0., ..., 10.,  0.,  0.]],\n",
       " \n",
       "        [[ 0.,  0.,  0., ..., 12.,  0.,  0.],\n",
       "         [ 0.,  0.,  3., ..., 14.,  0.,  0.],\n",
       "         [ 0.,  0.,  8., ..., 16.,  0.,  0.],\n",
       "         ...,\n",
       "         [ 0.,  9., 16., ...,  0.,  0.,  0.],\n",
       "         [ 0.,  3., 13., ..., 11.,  5.,  0.],\n",
       "         [ 0.,  0.,  0., ..., 16.,  9.,  0.]],\n",
       " \n",
       "        ...,\n",
       " \n",
       "        [[ 0.,  0.,  1., ...,  1.,  0.,  0.],\n",
       "         [ 0.,  0., 13., ...,  2.,  1.,  0.],\n",
       "         [ 0.,  0., 16., ..., 16.,  5.,  0.],\n",
       "         ...,\n",
       "         [ 0.,  0., 16., ..., 15.,  0.,  0.],\n",
       "         [ 0.,  0., 15., ..., 16.,  0.,  0.],\n",
       "         [ 0.,  0.,  2., ...,  6.,  0.,  0.]],\n",
       " \n",
       "        [[ 0.,  0.,  2., ...,  0.,  0.,  0.],\n",
       "         [ 0.,  0., 14., ..., 15.,  1.,  0.],\n",
       "         [ 0.,  4., 16., ..., 16.,  7.,  0.],\n",
       "         ...,\n",
       "         [ 0.,  0.,  0., ..., 16.,  2.,  0.],\n",
       "         [ 0.,  0.,  4., ..., 16.,  2.,  0.],\n",
       "         [ 0.,  0.,  5., ..., 12.,  0.,  0.]],\n",
       " \n",
       "        [[ 0.,  0., 10., ...,  1.,  0.,  0.],\n",
       "         [ 0.,  2., 16., ...,  1.,  0.,  0.],\n",
       "         [ 0.,  0., 15., ..., 15.,  0.,  0.],\n",
       "         ...,\n",
       "         [ 0.,  4., 16., ..., 16.,  6.,  0.],\n",
       "         [ 0.,  8., 16., ..., 16.,  8.,  0.],\n",
       "         [ 0.,  1.,  8., ..., 12.,  1.,  0.]]]),\n",
       " 'DESCR': \".. _digits_dataset:\\n\\nOptical recognition of handwritten digits dataset\\n--------------------------------------------------\\n\\n**Data Set Characteristics:**\\n\\n:Number of Instances: 1797\\n:Number of Attributes: 64\\n:Attribute Information: 8x8 image of integer pixels in the range 0..16.\\n:Missing Attribute Values: None\\n:Creator: E. Alpaydin (alpaydin '@' boun.edu.tr)\\n:Date: July; 1998\\n\\nThis is a copy of the test set of the UCI ML hand-written digits datasets\\nhttps://archive.ics.uci.edu/ml/datasets/Optical+Recognition+of+Handwritten+Digits\\n\\nThe data set contains images of hand-written digits: 10 classes where\\neach class refers to a digit.\\n\\nPreprocessing programs made available by NIST were used to extract\\nnormalized bitmaps of handwritten digits from a preprinted form. From a\\ntotal of 43 people, 30 contributed to the training set and different 13\\nto the test set. 32x32 bitmaps are divided into nonoverlapping blocks of\\n4x4 and the number of on pixels are counted in each block. This generates\\nan input matrix of 8x8 where each element is an integer in the range\\n0..16. This reduces dimensionality and gives invariance to small\\ndistortions.\\n\\nFor info on NIST preprocessing routines, see M. D. Garris, J. L. Blue, G.\\nT. Candela, D. L. Dimmick, J. Geist, P. J. Grother, S. A. Janet, and C.\\nL. Wilson, NIST Form-Based Handprint Recognition System, NISTIR 5469,\\n1994.\\n\\n.. dropdown:: References\\n\\n  - C. Kaynak (1995) Methods of Combining Multiple Classifiers and Their\\n    Applications to Handwritten Digit Recognition, MSc Thesis, Institute of\\n    Graduate Studies in Science and Engineering, Bogazici University.\\n  - E. Alpaydin, C. Kaynak (1998) Cascading Classifiers, Kybernetika.\\n  - Ken Tang and Ponnuthurai N. Suganthan and Xi Yao and A. Kai Qin.\\n    Linear dimensionalityreduction using relevance weighted LDA. School of\\n    Electrical and Electronic Engineering Nanyang Technological University.\\n    2005.\\n  - Claudio Gentile. A New Approximate Maximal Margin Classification\\n    Algorithm. NIPS. 2000.\\n\"}"
      ]
     },
     "execution_count": 237,
     "metadata": {},
     "output_type": "execute_result"
    }
   ],
   "source": [
    "digits"
   ]
  },
  {
   "cell_type": "code",
   "execution_count": 238,
   "id": "f42a0e08",
   "metadata": {},
   "outputs": [],
   "source": [
    "X = digits.data.astype(np.float32)\n",
    "y = digits.target.astype(np.int64)"
   ]
  },
  {
   "cell_type": "code",
   "execution_count": 239,
   "id": "412a2ab4",
   "metadata": {},
   "outputs": [
    {
     "data": {
      "text/plain": [
       "array([[ 0.,  0.,  5., ...,  0.,  0.,  0.],\n",
       "       [ 0.,  0.,  0., ..., 10.,  0.,  0.],\n",
       "       [ 0.,  0.,  0., ..., 16.,  9.,  0.],\n",
       "       ...,\n",
       "       [ 0.,  0.,  1., ...,  6.,  0.,  0.],\n",
       "       [ 0.,  0.,  2., ..., 12.,  0.,  0.],\n",
       "       [ 0.,  0., 10., ..., 12.,  1.,  0.]], dtype=float32)"
      ]
     },
     "execution_count": 239,
     "metadata": {},
     "output_type": "execute_result"
    }
   ],
   "source": [
    "X"
   ]
  },
  {
   "cell_type": "code",
   "execution_count": 240,
   "id": "7a580380",
   "metadata": {},
   "outputs": [
    {
     "data": {
      "text/plain": [
       "array([0, 1, 2, ..., 8, 9, 8], dtype=int64)"
      ]
     },
     "execution_count": 240,
     "metadata": {},
     "output_type": "execute_result"
    }
   ],
   "source": [
    "y"
   ]
  },
  {
   "cell_type": "code",
   "execution_count": 241,
   "id": "395b1de5",
   "metadata": {},
   "outputs": [],
   "source": [
    "X_train_val, X_test, y_train_val, y_test = train_test_split(X, y, test_size=0.15, random_state=42)\n",
    "X_train, X_val, y_train, y_val = train_test_split(X_train_val, y_train_val, test_size=0.15/0.85, random_state=42)"
   ]
  },
  {
   "cell_type": "code",
   "execution_count": 242,
   "id": "a85c9c39",
   "metadata": {},
   "outputs": [],
   "source": [
    "\n",
    "X_train = torch.tensor(X_train, dtype=torch.float32)\n",
    "y_train = torch.tensor(y_train, dtype=torch.int64)  # 분류용 레이블은 int64(LongTensor)로\n",
    "X_test  = torch.tensor(X_test,  dtype=torch.float32)\n",
    "y_test  = torch.tensor(y_test,  dtype=torch.int64)\n",
    "X_val   = torch.tensor(X_val,   dtype=torch.float32)\n",
    "y_val   = torch.tensor(y_val,   dtype=torch.int64)"
   ]
  },
  {
   "cell_type": "code",
   "execution_count": 243,
   "id": "77197bde",
   "metadata": {},
   "outputs": [
    {
     "data": {
      "text/plain": [
       "(torch.Size([1257, 64]),\n",
       " torch.Size([270, 64]),\n",
       " torch.Size([270, 64]),\n",
       " torch.Size([1257]),\n",
       " torch.Size([270]),\n",
       " torch.Size([270]))"
      ]
     },
     "execution_count": 243,
     "metadata": {},
     "output_type": "execute_result"
    }
   ],
   "source": [
    "X_train.shape, X_test.shape, X_val.shape, y_train.shape, y_test.shape, y_val.shape"
   ]
  },
  {
   "cell_type": "code",
   "execution_count": 244,
   "id": "c9189599",
   "metadata": {},
   "outputs": [],
   "source": [
    "# DataLoader 정의 (배치 크기 32)\n",
    "train_loader = DataLoader(\n",
    "    TensorDataset(X_train, y_train),\n",
    "    batch_size=32, shuffle=True\n",
    ")\n",
    "val_loader = DataLoader(\n",
    "    TensorDataset(X_val, y_val),\n",
    "    batch_size=32, shuffle=False\n",
    ")\n",
    "test_loader = DataLoader(\n",
    "    TensorDataset(X_test, y_test),\n",
    "    batch_size=32, shuffle=False\n",
    ")"
   ]
  },
  {
   "cell_type": "code",
   "execution_count": 245,
   "id": "edc4e640",
   "metadata": {},
   "outputs": [],
   "source": [
    "\n",
    "\n",
    "class DigitDNN(nn.Module):\n",
    "    def __init__(self):\n",
    "        super(DigitDNN, self).__init__()\n",
    "        self.fc1 = nn.Linear(64, 80)\n",
    "        self.fc2 = nn.Linear(80, 80)\n",
    "        self.fc3 = nn.Linear(80, 64)\n",
    "        self.fc4 = nn.Linear(64, 10)\n",
    "        self.relu = nn.ReLU()\n",
    "\n",
    "    def forward(self, x):\n",
    "        x = self.relu(self.fc1(x))\n",
    "        x = self.relu(self.fc2(x))\n",
    "        x = self.relu(self.fc3(x))\n",
    "        x = self.fc4(x)\n",
    "        return x\n",
    "\n",
    "model = DigitDNN()\n",
    "\n",
    "\n",
    "# 손실함수 및 최적화 기법 설정\n",
    "criterion = nn.CrossEntropyLoss()         # 다중 클래스 분류용\n",
    "optimizer = optim.Adam(model.parameters(), lr=0.001)"
   ]
  },
  {
   "cell_type": "code",
   "execution_count": 246,
   "id": "08ba6756",
   "metadata": {},
   "outputs": [
    {
     "name": "stdout",
     "output_type": "stream",
     "text": [
      "Epoch  1/30 — Train Loss: 1.5293, Acc: 0.5839 | Val Loss: 0.6372, Acc: 0.8741\n",
      "Epoch  2/30 — Train Loss: 0.3797, Acc: 0.9173 | Val Loss: 0.2643, Acc: 0.9185\n",
      "Epoch  3/30 — Train Loss: 0.2099, Acc: 0.9372 | Val Loss: 0.1990, Acc: 0.9333\n",
      "Epoch  4/30 — Train Loss: 0.1241, Acc: 0.9714 | Val Loss: 0.1893, Acc: 0.9370\n",
      "Epoch  5/30 — Train Loss: 0.0997, Acc: 0.9769 | Val Loss: 0.1503, Acc: 0.9481\n",
      "Epoch  6/30 — Train Loss: 0.0848, Acc: 0.9769 | Val Loss: 0.1315, Acc: 0.9593\n",
      "Epoch  7/30 — Train Loss: 0.0826, Acc: 0.9769 | Val Loss: 0.1300, Acc: 0.9630\n",
      "Epoch  8/30 — Train Loss: 0.0492, Acc: 0.9873 | Val Loss: 0.1157, Acc: 0.9667\n",
      "Epoch  9/30 — Train Loss: 0.0394, Acc: 0.9920 | Val Loss: 0.1330, Acc: 0.9593\n",
      "Epoch 10/30 — Train Loss: 0.0365, Acc: 0.9920 | Val Loss: 0.1162, Acc: 0.9593\n",
      "Epoch 11/30 — Train Loss: 0.0308, Acc: 0.9936 | Val Loss: 0.1147, Acc: 0.9741\n",
      "Epoch 12/30 — Train Loss: 0.0251, Acc: 0.9944 | Val Loss: 0.1266, Acc: 0.9556\n",
      "Epoch 13/30 — Train Loss: 0.0198, Acc: 0.9968 | Val Loss: 0.1587, Acc: 0.9481\n",
      "Epoch 14/30 — Train Loss: 0.0172, Acc: 0.9968 | Val Loss: 0.0952, Acc: 0.9815\n",
      "Epoch 15/30 — Train Loss: 0.0134, Acc: 0.9984 | Val Loss: 0.1293, Acc: 0.9556\n",
      "Epoch 16/30 — Train Loss: 0.0109, Acc: 0.9968 | Val Loss: 0.1101, Acc: 0.9704\n",
      "Epoch 17/30 — Train Loss: 0.0082, Acc: 1.0000 | Val Loss: 0.1080, Acc: 0.9704\n",
      "Epoch 18/30 — Train Loss: 0.0053, Acc: 1.0000 | Val Loss: 0.1082, Acc: 0.9667\n",
      "Epoch 19/30 — Train Loss: 0.0041, Acc: 1.0000 | Val Loss: 0.1164, Acc: 0.9704\n",
      "Epoch 20/30 — Train Loss: 0.0035, Acc: 1.0000 | Val Loss: 0.1104, Acc: 0.9741\n",
      "Epoch 21/30 — Train Loss: 0.0035, Acc: 1.0000 | Val Loss: 0.1105, Acc: 0.9704\n",
      "Epoch 22/30 — Train Loss: 0.0031, Acc: 1.0000 | Val Loss: 0.1273, Acc: 0.9667\n",
      "Epoch 23/30 — Train Loss: 0.0022, Acc: 1.0000 | Val Loss: 0.1163, Acc: 0.9704\n",
      "Epoch 24/30 — Train Loss: 0.0020, Acc: 1.0000 | Val Loss: 0.1159, Acc: 0.9704\n",
      "Epoch 25/30 — Train Loss: 0.0017, Acc: 1.0000 | Val Loss: 0.1172, Acc: 0.9704\n",
      "Epoch 26/30 — Train Loss: 0.0014, Acc: 1.0000 | Val Loss: 0.1242, Acc: 0.9667\n",
      "Epoch 27/30 — Train Loss: 0.0012, Acc: 1.0000 | Val Loss: 0.1152, Acc: 0.9704\n",
      "Epoch 28/30 — Train Loss: 0.0012, Acc: 1.0000 | Val Loss: 0.1181, Acc: 0.9704\n",
      "Epoch 29/30 — Train Loss: 0.0011, Acc: 1.0000 | Val Loss: 0.1200, Acc: 0.9667\n",
      "Epoch 30/30 — Train Loss: 0.0010, Acc: 1.0000 | Val Loss: 0.1153, Acc: 0.9667\n"
     ]
    }
   ],
   "source": [
    "num_epochs = 30\n",
    "\n",
    "for epoch in range(1, num_epochs + 1):\n",
    "    # ——— Training ———\n",
    "    model.train()\n",
    "    train_loss = 0.0\n",
    "    train_correct = 0\n",
    "    for X_batch, y_batch in train_loader:\n",
    "        optimizer.zero_grad()\n",
    "        outputs = model(X_batch)\n",
    "        loss = criterion(outputs, y_batch)\n",
    "        loss.backward()\n",
    "        optimizer.step()\n",
    "\n",
    "        train_loss += loss.item() * X_batch.size(0)\n",
    "        preds = outputs.argmax(dim=1)\n",
    "        train_correct += (preds == y_batch).sum().item()\n",
    "\n",
    "    train_loss /= len(train_loader.dataset)\n",
    "    train_acc  = train_correct / len(train_loader.dataset)\n",
    "\n",
    "    # ——— Validation ———\n",
    "    model.eval()\n",
    "    val_loss = 0.0\n",
    "    val_correct = 0\n",
    "    with torch.no_grad():\n",
    "        for X_batch, y_batch in val_loader:\n",
    "            outputs = model(X_batch)\n",
    "            loss = criterion(outputs, y_batch)\n",
    "\n",
    "            val_loss += loss.item() * X_batch.size(0)\n",
    "            preds = outputs.argmax(dim=1)\n",
    "            val_correct += (preds == y_batch).sum().item()\n",
    "\n",
    "    val_loss /= len(val_loader.dataset)\n",
    "    val_acc  = val_correct / len(val_loader.dataset)\n",
    "\n",
    "    print(f\"Epoch {epoch:2d}/{num_epochs} — \"\n",
    "          f\"Train Loss: {train_loss:.4f}, Acc: {train_acc:.4f} | \"\n",
    "          f\"Val Loss: {val_loss:.4f}, Acc: {val_acc:.4f}\")\n"
   ]
  },
  {
   "cell_type": "code",
   "execution_count": 247,
   "id": "96365528",
   "metadata": {},
   "outputs": [
    {
     "name": "stdout",
     "output_type": "stream",
     "text": [
      "\n",
      "=== Test Set Performance ===\n",
      "              precision    recall  f1-score   support\n",
      "\n",
      "           0       0.96      1.00      0.98        23\n",
      "           1       0.90      1.00      0.95        18\n",
      "           2       0.96      0.96      0.96        26\n",
      "           3       1.00      0.96      0.98        24\n",
      "           4       1.00      1.00      1.00        37\n",
      "           5       0.91      0.94      0.93        33\n",
      "           6       1.00      0.97      0.98        30\n",
      "           7       1.00      0.96      0.98        26\n",
      "           8       1.00      0.89      0.94        19\n",
      "           9       0.97      1.00      0.99        34\n",
      "\n",
      "    accuracy                           0.97       270\n",
      "   macro avg       0.97      0.97      0.97       270\n",
      "weighted avg       0.97      0.97      0.97       270\n",
      "\n",
      "Confusion Matrix:\n",
      " [[23  0  0  0  0  0  0  0  0  0]\n",
      " [ 0 18  0  0  0  0  0  0  0  0]\n",
      " [ 0  1 25  0  0  0  0  0  0  0]\n",
      " [ 0  0  0 23  0  1  0  0  0  0]\n",
      " [ 0  0  0  0 37  0  0  0  0  0]\n",
      " [ 0  0  1  0  0 31  0  0  0  1]\n",
      " [ 1  0  0  0  0  0 29  0  0  0]\n",
      " [ 0  0  0  0  0  1  0 25  0  0]\n",
      " [ 0  1  0  0  0  1  0  0 17  0]\n",
      " [ 0  0  0  0  0  0  0  0  0 34]]\n"
     ]
    }
   ],
   "source": [
    "# 5) 최종 테스트 평가\n",
    "model.eval()\n",
    "test_preds, test_labels = [], []\n",
    "with torch.no_grad():\n",
    "    for X_batch, y_batch in test_loader:\n",
    "        outputs = model(X_batch)\n",
    "        test_preds.extend(outputs.argmax(dim=1).cpu().numpy())\n",
    "        test_labels.extend(y_batch.cpu().numpy())\n",
    "\n",
    "print(\"\\n=== Test Set Performance ===\")\n",
    "print(classification_report(test_labels, test_preds))\n",
    "print(\"Confusion Matrix:\\n\", confusion_matrix(test_labels, test_preds))"
   ]
  }
 ],
 "metadata": {
  "kernelspec": {
   "display_name": "base",
   "language": "python",
   "name": "python3"
  },
  "language_info": {
   "codemirror_mode": {
    "name": "ipython",
    "version": 3
   },
   "file_extension": ".py",
   "mimetype": "text/x-python",
   "name": "python",
   "nbconvert_exporter": "python",
   "pygments_lexer": "ipython3",
   "version": "3.12.7"
  }
 },
 "nbformat": 4,
 "nbformat_minor": 5
}
